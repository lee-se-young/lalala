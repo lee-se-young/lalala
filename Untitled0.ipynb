{
  "nbformat": 4,
  "nbformat_minor": 0,
  "metadata": {
    "colab": {
      "name": "Untitled0.ipynb",
      "provenance": [],
      "authorship_tag": "ABX9TyN+SdcYEib+5cgTEYgUrGlB",
      "include_colab_link": true
    },
    "kernelspec": {
      "name": "python3",
      "display_name": "Python 3"
    }
  },
  "cells": [
    {
      "cell_type": "markdown",
      "metadata": {
        "id": "view-in-github",
        "colab_type": "text"
      },
      "source": [
        "<a href=\"https://colab.research.google.com/github/lee-se-young/lalala/blob/master/Untitled0.ipynb\" target=\"_parent\"><img src=\"https://colab.research.google.com/assets/colab-badge.svg\" alt=\"Open In Colab\"/></a>"
      ]
    },
    {
      "cell_type": "code",
      "metadata": {
        "id": "aRe8TTHn-eya",
        "colab_type": "code",
        "colab": {}
      },
      "source": [
        ""
      ],
      "execution_count": 0,
      "outputs": []
    },
    {
      "cell_type": "code",
      "metadata": {
        "id": "H---fwH7-fMz",
        "colab_type": "code",
        "colab": {}
      },
      "source": [
        ""
      ],
      "execution_count": 0,
      "outputs": []
    },
    {
      "cell_type": "markdown",
      "metadata": {
        "id": "95xzBJ63-fTZ",
        "colab_type": "text"
      },
      "source": [
        "**인공지능 기술 제품과 서비스**\n",
        "\n",
        "언어 : 율'Yooul'은 한국어를 입력하면 전 세계 사용자들은 자신이 지정한 언어로 바로 번역이 되어서 보인다.\n",
        "\n",
        "음성 : SK텔레콤의 ‘누구’와 KT의 ‘기가지니’, 하만카돈의 ‘인보크’, 카카오의 ‘카카오미니’도 인공지능 기술을 탑재한 스피커다. 음성으로 서비스를 선택하면 명령을 실행하는 기능을 담고 있다.\n",
        "\n",
        "이미지 : X레이는 이미지를 보고 환자가 어떤 병이 있는지 맞춰주는 것이다.\n",
        "\n",
        "자율주행 : 자율주행자동차는 인공지능 딥러닝 기능을 탑재한 시스템의 경우 12개의 카메라를 비롯해 레이더, 초음파 센서 등 \n",
        "다양한 센서들을 통해 입력되는 정보들을 결합하여 주변 환경과 상황을 인식 및 인지할 수 있다. \n",
        "\n",
        "\n"
      ]
    }
  ]
}